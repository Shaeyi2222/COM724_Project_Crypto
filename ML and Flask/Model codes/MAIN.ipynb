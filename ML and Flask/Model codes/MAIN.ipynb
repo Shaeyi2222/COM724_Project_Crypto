{
 "cells": [
  {
   "cell_type": "code",
   "execution_count": null,
   "id": "a9e0e3a6",
   "metadata": {},
   "outputs": [],
   "source": [
    "#Important library imports...\n",
    "import pandas as pd\n",
    "import matplotlib.pyplot as plt\n",
    "import seaborn as sns\n",
    "import numpy as np\n",
    "\n",
    "from sklearn import preprocessing\n",
    "from numpy import set_printoptions\n",
    "%matplotlib inline\n",
    "\n",
    "\n",
    "crypto_symbols = ['BTC-USD', 'ETH-USD', 'XRP-USD', 'LTC-USD', 'BCH-USD', 'ADA-USD', 'XLM-USD', 'XEM-USD', 'DOGE-USD',\n",
    "                      'EOS-USD', 'XMR-USD', 'TRX-USD', 'MIOTA-USD', 'DASH-USD', 'BNB-USD', 'NEO-USD', 'ETC-USD',\n",
    "                      'XTZ-USD', 'ZEC-USD', 'VET-USD', 'OMG-USD', 'ONT-USD', 'BAT-USD', 'QTUM-USD', 'ZRX-USD', 'ICX-USD',\n",
    "                      'LSK-USD', 'BTG-USD', 'NANO-USD', 'DCR-USD', 'XVG-USD', 'BCD-USD', 'DGB-USD', 'STEEM-USD', 'STRAT-USD',\n",
    "                      'SC-USD', 'ARDR-USD', 'LRC-USD', 'NEXO-USD', 'BTS-USD', 'REP-USD', 'WAVES-USD', 'QASH-USD', 'CENNZ-USD',\n",
    "                      'ETP-USD', 'BCN-USD', 'THETA-USD', 'RDD-USD', 'KNC-USD', 'WAXP-USD', 'GNT-USD', 'ANT-USD', 'XIN-USD',\n",
    "                      'POWR-USD', 'META-USD', 'ENG-USD', 'ELF-USD', 'DENT-USD', 'SNT-USD', 'RDN-USD', 'SYS-USD', 'AE-USD',\n",
    "                      'PIVX-USD', 'GAS-USD', 'CMT-USD', 'SRN-USD', 'GTO-USD', 'MLN-USD', 'FUN-USD', 'MTL-USD', 'ARK-USD',\n",
    "                      'STORM-USD', 'CVC-USD', 'PART-USD', 'BNT-USD', 'GAME-USD', 'STEEM-USD', 'GRS-USD', 'NXS-USD', 'FCT-USD',\n",
    "                      'SALT-USD', 'POE-USD', 'ADX-USD', 'STX-USD', 'NAV-USD', 'POLY-USD', 'HPB-USD', 'PPC-USD', 'GAS-USD',\n",
    "                      'RLC-USD', 'NEBL-USD', 'STORJ-USD', 'SKY-USD', 'ANT-USD', 'LBC-USD', 'BURST-USD', 'BLOCK-USD', 'SKY-USD']\n"
   ]
  },
  {
   "cell_type": "code",
   "execution_count": null,
   "id": "06501acd",
   "metadata": {
    "scrolled": true
   },
   "outputs": [],
   "source": [
    "#Data read in...\n",
    "crypto_data = pd.read_csv('./complete_dataset.csv')\n",
    "crypto_data.head()"
   ]
  },
  {
   "cell_type": "code",
   "execution_count": null,
   "id": "f8d3add1",
   "metadata": {
    "scrolled": false
   },
   "outputs": [],
   "source": [
    "#Ensure the dataset is properly arranged by cryptocurrency and datetime stamp.\n",
    "df = crypto_data.sort_values(by=['Symbol', 'DateTime'])\n",
    "df.head()"
   ]
  },
  {
   "cell_type": "code",
   "execution_count": null,
   "id": "63056db2",
   "metadata": {},
   "outputs": [],
   "source": [
    "#veiwing other portions of the data and the other charcteristics\n",
    "crypto_data.isnull().sum()"
   ]
  },
  {
   "cell_type": "markdown",
   "id": "e5ff9de0",
   "metadata": {},
   "source": [
    "PREPROCESSING"
   ]
  },
  {
   "cell_type": "code",
   "execution_count": null,
   "id": "a3446133",
   "metadata": {},
   "outputs": [],
   "source": [
    "#Create a different column for date to avoid kwarg error, convert string element to date time and set as index\n",
    "\n",
    "df['DT'] = pd.to_datetime(df['DateTime'])\n",
    "df.set_index('DT', inplace=True)\n",
    "\n"
   ]
  },
  {
   "cell_type": "code",
   "execution_count": null,
   "id": "b2c07e64",
   "metadata": {
    "scrolled": true
   },
   "outputs": [],
   "source": [
    "#removing the redundant columns\n",
    "df.drop(labels=['Unnamed: 0.2', 'Unnamed: 0.1', 'Unnamed: 0', 'DateTime'],\n",
    "    axis = 1,\n",
    "    inplace= True)\n"
   ]
  },
  {
   "cell_type": "code",
   "execution_count": null,
   "id": "3b5d0320",
   "metadata": {},
   "outputs": [],
   "source": [
    "#Let review some datetime characteristics\n",
    "print('Earliest date is {} and Latest Date is {}'.format(df.index.min(),df.index.max()))\n",
    "time_span = df.index.max() - df.index.min()\n",
    "print('The time span of the dataset is {}'.format(time_span))"
   ]
  },
  {
   "cell_type": "code",
   "execution_count": null,
   "id": "29bd00fe",
   "metadata": {
    "scrolled": true
   },
   "outputs": [],
   "source": [
    "'''This represent 20 months of historic data ensuring recency of the data while avoiding the impact of COVID-19 that \n",
    "impacted the cryptocurrency market and other financial markets in a haphazard manner keeping in mind that we may never be able\n",
    "to model an even tlike a PANDEMIC into our predictive model. In other words, the data points of 2020 and early 2021 are \n",
    "considered as outliers'''\n",
    "#to limit the data to a strict 20 month period, i would limit the data from 15th Dec 2021 to 15th July 2023\n"
   ]
  },
  {
   "cell_type": "code",
   "execution_count": null,
   "id": "ac7cfd71",
   "metadata": {
    "scrolled": false
   },
   "outputs": [],
   "source": [
    "df_trim = df.loc['2021-12-15':'2023-07-15']\n",
    "df_trim"
   ]
  },
  {
   "cell_type": "code",
   "execution_count": null,
   "id": "265d74e5",
   "metadata": {},
   "outputs": [],
   "source": [
    "df_trim.dtypes"
   ]
  },
  {
   "cell_type": "markdown",
   "id": "e4525ebf",
   "metadata": {},
   "source": [
    "## EXPLORATORY DATA  ANALYSIS"
   ]
  },
  {
   "cell_type": "code",
   "execution_count": null,
   "id": "214e12cc",
   "metadata": {
    "scrolled": true
   },
   "outputs": [],
   "source": [
    "#Lets take a look at the dataset as a whole\n",
    "np.set_printoptions(precision=3, threshold=75)\n",
    "df_trim.describe()"
   ]
  },
  {
   "cell_type": "markdown",
   "id": "c4e0c302",
   "metadata": {},
   "source": [
    "# Univariate Analysis"
   ]
  },
  {
   "cell_type": "markdown",
   "id": "9075fb18",
   "metadata": {},
   "source": [
    "### Univariate Analysis using the BTC subset"
   ]
  },
  {
   "cell_type": "code",
   "execution_count": null,
   "id": "b896b082",
   "metadata": {},
   "outputs": [],
   "source": [
    "#Lets take a look at the BTC data.\n",
    "df_BTC = df_trim.loc[df_trim['Symbol']== 'BTC-USD']\n",
    "df_BTC.head()"
   ]
  },
  {
   "cell_type": "code",
   "execution_count": null,
   "id": "645bf25d",
   "metadata": {
    "scrolled": false
   },
   "outputs": [],
   "source": [
    "# Resample the data to a monthly frequency and calculate the mean for each month\n",
    "df_BTC_monthly = df_BTC.resample('M').mean()\n",
    "\n",
    "plt.figure(figsize=(11,6))\n",
    "\n",
    "# Create a line plot using Seaborn\n",
    "sns.lineplot(data=df_BTC_monthly, \n",
    "             x=df_BTC_monthly.index.map(lambda x: x.strftime('%m-%y')),\n",
    "             y='Adj Close'\n",
    "          )\n",
    "plt.xticks(df_BTC_monthly.index.map(lambda x: x.strftime('%m-%y')), rotation='40')\n",
    "\n",
    "plt.show()"
   ]
  },
  {
   "cell_type": "code",
   "execution_count": null,
   "id": "0dee4a3d",
   "metadata": {},
   "outputs": [],
   "source": [
    "df_BTC.shape"
   ]
  },
  {
   "cell_type": "code",
   "execution_count": null,
   "id": "50a26f75",
   "metadata": {},
   "outputs": [],
   "source": [
    "df_BTC.isnull().sum()"
   ]
  },
  {
   "cell_type": "code",
   "execution_count": null,
   "id": "f50ba587",
   "metadata": {
    "scrolled": true
   },
   "outputs": [],
   "source": [
    "df_BTC.dtypes"
   ]
  },
  {
   "cell_type": "code",
   "execution_count": null,
   "id": "f4219075",
   "metadata": {
    "scrolled": false
   },
   "outputs": [],
   "source": [
    "#Lets create  target values(closing value of next day and a difference or gain) in the dataset \n",
    "df_BTC_2 = df_BTC.assign(close_next = df_BTC['Open'].shift(-1),\n",
    "                     diff= df_BTC['Adj Close']-df_BTC['Open']).drop('Symbol', axis=1)\n",
    "df_BTC_2\n",
    "#This will create 2 output features >>>>>Close_next >> & >>>>>Diff"
   ]
  },
  {
   "cell_type": "code",
   "execution_count": null,
   "id": "167a42d8",
   "metadata": {},
   "outputs": [],
   "source": [
    "#in order to determine if the data has any trends, a simple plot of each column is used.\n",
    "df_BTC_2.plot(subplots= True, figsize=(10,14))"
   ]
  },
  {
   "cell_type": "code",
   "execution_count": null,
   "id": "b6eb2713",
   "metadata": {
    "scrolled": false
   },
   "outputs": [],
   "source": [
    "#Exploring the features most predictive of the target values\n",
    "plt.figure(figsize=(10, 6)) \n",
    "df_BTC_corr = round(df_BTC_2.corr(),3)\n",
    "sns.heatmap(df_BTC_corr, annot= True, cmap = 'crest')"
   ]
  },
  {
   "cell_type": "code",
   "execution_count": null,
   "id": "97341b35",
   "metadata": {
    "scrolled": false
   },
   "outputs": [],
   "source": [
    "for i,column in enumerate(df_BTC_2.columns):\n",
    "    sns.histplot(df_BTC_2[column],kde=True, bins=30)  # Create the histogram using Seaborn\n",
    "    plt.title(f'Histogram of {column} amount')  # Add a title for each histogram\n",
    "#   plt.xlabel({column})  # Add x-axis label (column name)\n",
    "    plt.ylabel('Frequency')  # Add y-axis label\n",
    "    plt.tight_layout()\n",
    "    plt.show()  # Display the histogram\n",
    "# fig,((ax0,ax1), (ax2,ax3), (ax4,ax5),(ax6,ax7)) = plt.subplots(nrows=4, ncols=2)\n",
    "\n",
    "# fig,axes = plt.subplots(nrows=4, ncols=2, figsize=(10,12))\n",
    "\n",
    "# for i, columns in enumerate(df_BTC_2.columns):\n",
    "#     row = i // 2\n",
    "#     col = i % 2\n",
    "    \n",
    "#     ax = axes[row,col]\n",
    "#     ax.hist(df_BTC_2[column], bins=50)\n",
    "#     ax.set_title(f'Histogram of {column} amount')  # Add a title for each histogram\n",
    "#     ax.set_ylabel('Frequency')  # Add y-axis label\n",
    "    \n",
    "# plt.tight_layout()\n",
    "# plt.show()  # Display the histogram"
   ]
  },
  {
   "cell_type": "code",
   "execution_count": null,
   "id": "ac71439a",
   "metadata": {},
   "outputs": [],
   "source": [
    "#We need to find a way  to generalize these characteristics to the larger data that is \n",
    "# that is, the possibility that all the cryptocurrencies in the larger dataset follow these characteristics.\n"
   ]
  },
  {
   "cell_type": "code",
   "execution_count": null,
   "id": "5b894bff",
   "metadata": {},
   "outputs": [],
   "source": [
    "#In order to explore the data properly each cryptocurrency needs to be explored independently."
   ]
  },
  {
   "cell_type": "code",
   "execution_count": null,
   "id": "d93a0fa2",
   "metadata": {},
   "outputs": [],
   "source": [
    "#Seperate the dataset in Training and testing datasets."
   ]
  },
  {
   "cell_type": "code",
   "execution_count": null,
   "id": "5ff89f7b",
   "metadata": {
    "scrolled": true
   },
   "outputs": [],
   "source": [
    "# if (df['Symbol']==df['Symbol'].shift()).all():\n",
    "#     df['previous_close'] = df.shift(1)['Adj Close'] \n",
    "# df.head()"
   ]
  },
  {
   "cell_type": "code",
   "execution_count": null,
   "id": "fde49286",
   "metadata": {},
   "outputs": [],
   "source": [
    "# for i, row in crypto_data:\n",
    "#     if crypto_data(i)['Symbol'] == crypto_data.shift(i)['Symbol']:\n",
    "#         crypto_data['Diff_Close'] = crypto_data.shift(i)['Adj Close'] - crypto_data(i)['Adj Close']\n",
    "\n",
    "# crypto_data['Diff_Close'] = crypto_data.groupby('Symbol')['Adj Close'].diff().shift(-1)"
   ]
  },
  {
   "cell_type": "code",
   "execution_count": null,
   "id": "15df2847",
   "metadata": {
    "scrolled": true
   },
   "outputs": [],
   "source": [
    "# df['GainOrLoss'] = df['Adj Close'] - df['previous_close']\n",
    "# df[500:700:10]"
   ]
  },
  {
   "cell_type": "code",
   "execution_count": null,
   "id": "fd9b64a2",
   "metadata": {},
   "outputs": [],
   "source": [
    "# df.shape"
   ]
  },
  {
   "cell_type": "code",
   "execution_count": null,
   "id": "5e9bcf8f",
   "metadata": {},
   "outputs": [],
   "source": [
    "# The pre-processing of the data would involve extensive extensive data mungling and feature enginnering\n",
    "# Hence data splitting would be done early to avoid spilling future data in to the past.\n"
   ]
  },
  {
   "cell_type": "code",
   "execution_count": null,
   "id": "5dd65581",
   "metadata": {},
   "outputs": [],
   "source": [
    "# BTC_df = (df[df['Symbol']=='BTC-USD']).sort_values(by='DateTime', ascending=False )\n",
    "\n",
    "# plt.figure(figsize=(12,10))\n",
    "    \n",
    "# ax1= sns.lineplot(x=BTC_df.index,\n",
    "#     y='Adj Close',\n",
    "#     data=BTC_df,        \n",
    "#     linewidth= 3,\n",
    "#     sort=True)\n",
    "# plt.show()"
   ]
  },
  {
   "cell_type": "code",
   "execution_count": null,
   "id": "5281e776",
   "metadata": {},
   "outputs": [],
   "source": [
    "# !pip install sktime\n",
    "# from sktime import plot_series"
   ]
  },
  {
   "cell_type": "code",
   "execution_count": null,
   "id": "e6be3408",
   "metadata": {},
   "outputs": [],
   "source": []
  }
 ],
 "metadata": {
  "kernelspec": {
   "display_name": "Python 3.9.16 ('tf')",
   "language": "python",
   "name": "python3"
  },
  "language_info": {
   "codemirror_mode": {
    "name": "ipython",
    "version": 3
   },
   "file_extension": ".py",
   "mimetype": "text/x-python",
   "name": "python",
   "nbconvert_exporter": "python",
   "pygments_lexer": "ipython3",
   "version": "3.9.16"
  },
  "vscode": {
   "interpreter": {
    "hash": "dbc0770ecd30f98561162093fd8abab0709c5060f2f81711c403a4cebee6fe13"
   }
  }
 },
 "nbformat": 4,
 "nbformat_minor": 5
}
